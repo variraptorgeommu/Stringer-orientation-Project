{
  "nbformat": 4,
  "nbformat_minor": 0,
  "metadata": {
    "colab": {
      "provenance": []
    },
    "kernelspec": {
      "name": "python3",
      "display_name": "Python 3"
    },
    "language_info": {
      "name": "python"
    }
  },
  "cells": [
    {
      "cell_type": "markdown",
      "source": [
        "# Pre-Notebook:"
      ],
      "metadata": {
        "id": "tQ8MXDbcxJpK"
      }
    },
    {
      "cell_type": "markdown",
      "source": [
        "###User's Manual:\n",
        "\n",
        "\n",
        "*   This is The Standard Notebook for The Group.\n",
        "*   The Notebook is Named Standard-notebook, Change\n",
        "*   The Notebook's Name According to The Task ou are Going to Do.\n",
        "\n",
        "* __Naming Convention:__\n",
        "\n",
        "  1- No Capital Letters.\n",
        "\n",
        "  2- Try to Not Use Numbers as Possible.\n",
        "  \n",
        "  3- The Only Space Character Allowed is The Hyphen  \"-\".\n",
        "  \n",
        "  4- Try to Make The Name Informable, Precise, and Short.\n",
        "\n"
      ],
      "metadata": {
        "id": "gYuur74gxjnY"
      }
    },
    {
      "cell_type": "markdown",
      "source": [
        "### Mounting to Google Drive.\n",
        "\n",
        "\n",
        "##### Note: make sure to open this notebook via the team's email account.\n",
        "\n",
        "##### Team's E-mail Account: variraptorgeommu@gmail.com"
      ],
      "metadata": {
        "id": "Md8w4qjxvzlB"
      }
    },
    {
      "cell_type": "code",
      "execution_count": 1,
      "metadata": {
        "colab": {
          "base_uri": "https://localhost:8080/"
        },
        "id": "k6tzGzAuvIPs",
        "outputId": "fd330cdf-61ff-489c-e805-5318505ddb3d"
      },
      "outputs": [
        {
          "output_type": "stream",
          "name": "stdout",
          "text": [
            "Mounted at /content/drive\n"
          ]
        }
      ],
      "source": [
        "from google.colab import drive\n",
        "drive.mount('/content/drive')"
      ]
    },
    {
      "cell_type": "markdown",
      "source": [
        "# Notebook:"
      ],
      "metadata": {
        "id": "alXikIWj6UKq"
      }
    }
  ]
}